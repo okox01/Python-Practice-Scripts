{
 "cells": [
  {
   "cell_type": "markdown",
   "id": "441b0eb9",
   "metadata": {},
   "source": [
    "#### 🔁 Python Iterators – Short Notes\n",
    "\n",
    "##### ✅ What is an Iterator?\n",
    "- An **object** used to **iterate over iterable** collections (like list, tuple, etc.).\n",
    "- Must implement:\n",
    "  - `__iter__()` → returns the iterator object\n",
    "  - `__next__()` → returns next item or raises `StopIteration`\n",
    "\n",
    "---\n",
    "\n",
    "#### 🧠 Built-in Example\n",
    "\n",
    "```python\n",
    "nums = [1, 2, 3]\n",
    "it = iter(nums)\n",
    "print(next(it))  # 1\n",
    "print(next(it))  # 2"
   ]
  },
  {
   "cell_type": "code",
   "execution_count": 9,
   "id": "440852f4",
   "metadata": {},
   "outputs": [
    {
     "name": "stdout",
     "output_type": "stream",
     "text": [
      "10\n",
      "20\n",
      "30\n",
      "End\n"
     ]
    }
   ],
   "source": [
    "# 1. Basic Iterator on List\n",
    "nums=[10,20,30]\n",
    "it=iter(nums)\n",
    "\n",
    "print(next(it,\"End\"))  \n",
    "print(next(it,\"End\"))\n",
    "print(next(it,\"End\"))\n",
    "print(next(it,\"End\"))"
   ]
  },
  {
   "cell_type": "code",
   "execution_count": 12,
   "id": "e6a1f490",
   "metadata": {},
   "outputs": [
    {
     "name": "stdout",
     "output_type": "stream",
     "text": [
      "sami\n",
      "eren\n",
      "luffy\n",
      "No more names\n"
     ]
    }
   ],
   "source": [
    "#  2. Using Iterator in a while Loop\n",
    "names=['sami','eren','luffy']\n",
    "it=iter(names)\n",
    "\n",
    "while True:\n",
    "    try:\n",
    "        name=next(it)\n",
    "        print(name)\n",
    "    except StopIteration:\n",
    "        print(\"No more names\")\n",
    "        break"
   ]
  },
  {
   "cell_type": "code",
   "execution_count": null,
   "id": "2fbcd7a8",
   "metadata": {},
   "outputs": [
    {
     "name": "stdout",
     "output_type": "stream",
     "text": [
      "Red\n",
      "Green\n",
      "Blue\n"
     ]
    }
   ],
   "source": [
    "#  3. Behind the Scenes of a for Loop\n",
    "\n",
    "colors=[\"Red\",\"Green\",\"Blue\"]\n",
    "it =iter(colors)\n",
    "\n",
    "while True:\n",
    "    try:\n",
    "        c=next(it)\n",
    "        print(c)\n",
    "    except StopIteration:\n",
    "        break"
   ]
  },
  {
   "cell_type": "code",
   "execution_count": 3,
   "id": "09c55029",
   "metadata": {},
   "outputs": [
    {
     "name": "stdout",
     "output_type": "stream",
     "text": [
      "1\n",
      "2\n",
      "3\n",
      "4\n",
      "5\n"
     ]
    }
   ],
   "source": [
    "# 4. Custom Iterator Class – Count from 1 to max\n",
    "\n",
    "class CountUpto:\n",
    "    def __init__(self,max):\n",
    "        self.max=max\n",
    "        self.current=1\n",
    "    def __iter__(self):\n",
    "        return self\n",
    "\n",
    "    def __next__(self):\n",
    "        if self.current<=self.max:\n",
    "            num=self.current\n",
    "            self.current+=1\n",
    "            return num\n",
    "        else:\n",
    "            raise StopIteration\n",
    "        \n",
    "for i in CountUpto(5):\n",
    "    print(i)"
   ]
  },
  {
   "cell_type": "code",
   "execution_count": 5,
   "id": "b7e801e8",
   "metadata": {},
   "outputs": [
    {
     "name": "stdout",
     "output_type": "stream",
     "text": [
      "p\n",
      "y\n",
      "t\n",
      "h\n",
      "o\n",
      "n\n"
     ]
    }
   ],
   "source": [
    "# 5. Custom Object Iteration – Characters of a Word\n",
    "class Word:\n",
    "    def __init__(self,word):\n",
    "        self.word=word\n",
    "        self.index=0\n",
    "    \n",
    "    def __iter__(self):\n",
    "        return self\n",
    "\n",
    "    def __next__(self):\n",
    "        if self.index<len(self.word):\n",
    "            char=self.word[self.index]\n",
    "            self.index+=1\n",
    "            return char\n",
    "        raise StopIteration\n",
    "    \n",
    "for ch in Word(\"python\"):\n",
    "    print(ch)\n"
   ]
  },
  {
   "cell_type": "code",
   "execution_count": 5,
   "id": "962b4d54",
   "metadata": {},
   "outputs": [
    {
     "name": "stdout",
     "output_type": "stream",
     "text": [
      "5\n",
      "6\n",
      "7\n",
      "8\n"
     ]
    }
   ],
   "source": [
    "# 5. Custom Iterator with Custom Start and End\n",
    "\n",
    "class RangeIterator:\n",
    "    def __init__(self,start,end):\n",
    "        self.start=start\n",
    "        self.end=end\n",
    "    \n",
    "    def __iter__(self):\n",
    "        return self\n",
    "\n",
    "    def __next__(self):\n",
    "        if self.start<=self.end:\n",
    "            p=self.start\n",
    "            self.start+=1\n",
    "            return p\n",
    "        else:\n",
    "            raise StopIteration\n",
    "        \n",
    "for i in RangeIterator(5,8):\n",
    "    print(i)"
   ]
  },
  {
   "cell_type": "code",
   "execution_count": 7,
   "id": "929bb149",
   "metadata": {},
   "outputs": [
    {
     "name": "stdout",
     "output_type": "stream",
     "text": [
      "4\n",
      "3\n",
      "2\n",
      "1\n"
     ]
    }
   ],
   "source": [
    "# 9. Iterator with Reverse Traversal\n",
    "class ReverseTraverse:\n",
    "    def __init__(self,data):\n",
    "        self.data=data\n",
    "        self.index=len(data)-1\n",
    "    \n",
    "    def __iter__(self):\n",
    "        return self\n",
    "\n",
    "    def __next__(self):\n",
    "        if self.index>=0:\n",
    "            res=self.data[self.index]\n",
    "            self.index-=1\n",
    "            return res\n",
    "        raise StopIteration\n",
    "    \n",
    "for i in ReverseTraverse([1,2,3,4]):\n",
    "    print(i)\n"
   ]
  }
 ],
 "metadata": {
  "kernelspec": {
   "display_name": "myenv",
   "language": "python",
   "name": "python3"
  },
  "language_info": {
   "codemirror_mode": {
    "name": "ipython",
    "version": 3
   },
   "file_extension": ".py",
   "mimetype": "text/x-python",
   "name": "python",
   "nbconvert_exporter": "python",
   "pygments_lexer": "ipython3",
   "version": "3.13.0"
  }
 },
 "nbformat": 4,
 "nbformat_minor": 5
}
