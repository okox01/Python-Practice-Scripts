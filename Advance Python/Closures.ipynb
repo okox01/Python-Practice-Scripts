{
 "cells": [
  {
   "cell_type": "markdown",
   "id": "61159f62",
   "metadata": {},
   "source": [
    "##### 🔐 Python Closures – Short Notes\n",
    "\n",
    "##### ✅ What is a Closure?\n",
    "A closure is a function that:\n",
    "- Is **nested inside another function**\n",
    "- **Uses variables from the outer function**\n",
    "- **Remembers those variables** even after the outer function has finished\n",
    "\n",
    "---\n",
    "\n",
    "##### 🧠 Rules for Closures\n",
    "1. You must have a nested function.\n",
    "2. The inner function must use a variable from the outer function.\n",
    "3. The outer function must return the inner function.\n",
    "\n",
    "---\n",
    "\n",
    "##### 🔧 Example\n",
    "\n",
    "```python\n",
    "def outer(msg):\n",
    "    def inner():\n",
    "        print(f\"Message: {msg}\")\n",
    "    return inner\n",
    "\n",
    "greet = outer(\"Hello\")\n",
    "greet()  # Output: Message: Hello\n"
   ]
  },
  {
   "cell_type": "code",
   "execution_count": null,
   "id": "9ff744f1",
   "metadata": {},
   "outputs": [
    {
     "name": "stdout",
     "output_type": "stream",
     "text": [
      "hello world\n"
     ]
    }
   ],
   "source": [
    "# Example: 01\n",
    "def outer():\n",
    "    msg=\"hello world\"\n",
    "    def inner():\n",
    "        print(msg)\n",
    "    return inner\n",
    "\n",
    "func=outer()\n",
    "func()"
   ]
  },
  {
   "cell_type": "code",
   "execution_count": 1,
   "id": "2dca3d7a",
   "metadata": {},
   "outputs": [
    {
     "name": "stdout",
     "output_type": "stream",
     "text": [
      "10\n",
      "15\n"
     ]
    }
   ],
   "source": [
    "# Example 2: Function Factory (Closures for Multipliers)\n",
    "def make_multiplier(factor):\n",
    "    def multiplier(x):\n",
    "        return x*factor\n",
    "    return multiplier\n",
    "\n",
    "double=make_multiplier(2)\n",
    "triple=make_multiplier(3)\n",
    "\n",
    "print(double(5))\n",
    "print(triple(5))"
   ]
  },
  {
   "cell_type": "code",
   "execution_count": null,
   "id": "d8a06380",
   "metadata": {},
   "outputs": [
    {
     "name": "stdout",
     "output_type": "stream",
     "text": [
      "1\n",
      "2\n",
      "2\n"
     ]
    }
   ],
   "source": [
    "# Example 3: Counter Using Closure\n",
    "\n",
    "def make_counter():\n",
    "    count=0\n",
    "    def counter():\n",
    "        nonlocal count\n",
    "        count+=1\n",
    "        return count\n",
    "    return counter\n",
    "\n",
    "my_counter=make_counter()\n",
    "\n",
    "print(my_counter())\n",
    "print(my_counter())\n",
    "\n",
    "\n",
    "# 🔍 Want to See Closure Cells?\n",
    "print(my_counter.__closure__[0].cell_contents) # prints the current count: 3"
   ]
  },
  {
   "cell_type": "code",
   "execution_count": null,
   "id": "803e9869",
   "metadata": {},
   "outputs": [],
   "source": []
  }
 ],
 "metadata": {
  "kernelspec": {
   "display_name": "myenv",
   "language": "python",
   "name": "python3"
  },
  "language_info": {
   "codemirror_mode": {
    "name": "ipython",
    "version": 3
   },
   "file_extension": ".py",
   "mimetype": "text/x-python",
   "name": "python",
   "nbconvert_exporter": "python",
   "pygments_lexer": "ipython3",
   "version": "3.13.0"
  }
 },
 "nbformat": 4,
 "nbformat_minor": 5
}
