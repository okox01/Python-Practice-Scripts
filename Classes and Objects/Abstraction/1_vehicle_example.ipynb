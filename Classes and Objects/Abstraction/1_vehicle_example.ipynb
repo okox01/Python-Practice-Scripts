{
 "cells": [
  {
   "cell_type": "code",
   "execution_count": 2,
   "id": "7d4677ea",
   "metadata": {},
   "outputs": [
    {
     "name": "stdout",
     "output_type": "stream",
     "text": [
      "Car engine started!\n",
      "Vehicle is moving...\n",
      "Car engine stopped!\n",
      "Bike engine started!\n",
      "Vehicle is moving...\n",
      "Bike engine stopped!\n"
     ]
    }
   ],
   "source": [
    "from abc import ABC, abstractmethod\n",
    "\n",
    "class Vehicle(ABC):\n",
    "    @abstractmethod\n",
    "    def start_engine(self):\n",
    "        pass\n",
    "\n",
    "    @abstractmethod\n",
    "    def stop_engine(self):\n",
    "        pass\n",
    "\n",
    "    def drive(self):\n",
    "        print(\"Vehicle is moving...\")\n",
    "\n",
    "class Car(Vehicle):\n",
    "    def start_engine(self):\n",
    "        print(\"Car engine started!\")\n",
    "\n",
    "    def stop_engine(self):\n",
    "        print(\"Car engine stopped!\")\n",
    "\n",
    "class Bike(Vehicle):\n",
    "    def start_engine(self):\n",
    "        print(\"Bike engine started!\")\n",
    "\n",
    "    def stop_engine(self):\n",
    "        print(\"Bike engine stopped!\")\n",
    "\n",
    "# Test\n",
    "vehicles = [Car(), Bike()]\n",
    "for v in vehicles:\n",
    "    v.start_engine()\n",
    "    v.drive()\n",
    "    v.stop_engine()\n"
   ]
  },
  {
   "cell_type": "code",
   "execution_count": null,
   "id": "5db27e01",
   "metadata": {},
   "outputs": [],
   "source": []
  }
 ],
 "metadata": {
  "kernelspec": {
   "display_name": "myenv",
   "language": "python",
   "name": "python3"
  },
  "language_info": {
   "codemirror_mode": {
    "name": "ipython",
    "version": 3
   },
   "file_extension": ".py",
   "mimetype": "text/x-python",
   "name": "python",
   "nbconvert_exporter": "python",
   "pygments_lexer": "ipython3",
   "version": "3.13.0"
  }
 },
 "nbformat": 4,
 "nbformat_minor": 5
}
