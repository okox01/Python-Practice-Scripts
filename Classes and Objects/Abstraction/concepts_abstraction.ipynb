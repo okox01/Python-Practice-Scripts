{
 "cells": [
  {
   "cell_type": "markdown",
   "id": "6f170cd2",
   "metadata": {},
   "source": [
    "# 🔐 Abstraction in Python (OOP)\n",
    "\n",
    "Abstraction means hiding unnecessary internal logic and exposing only the essential features.  \n",
    "It helps me write cleaner, scalable, and modular code by focusing on **what** a class should do, not **how** it does it.\n",
    "\n",
    "---\n",
    "\n",
    "## 💡 Core Concept\n",
    "\n",
    "- An **abstract class** is like a base template or blueprint.\n",
    "- It defines method names (behaviors) without giving full instructions.\n",
    "- Objects **cannot be created** directly from abstract classes.\n",
    "- **Abstract methods** are placeholders that force subclasses to implement them.\n",
    "- Python provides the `abc` module to define these structures using:\n",
    "  - `ABC` (Abstract Base Class)\n",
    "  - `@abstractmethod` decorator\n",
    "\n",
    "---\n",
    "\n",
    "## 📝 Overview\n",
    "\n",
    "| Term              | Meaning |\n",
    "|-------------------|--------|\n",
    "| `ABC`             | Base class to define abstract classes |\n",
    "| `@abstractmethod` | Forces subclass to implement method |\n",
    "| Abstract Class    | Cannot be instantiated |\n",
    "| Concrete Method   | Can be directly inherited |\n",
    "| Subclass          | Must implement all abstract methods |\n",
    "\n",
    "---\n",
    "\n",
    "## 🧱 Structure of Abstraction\n",
    "\n",
    "```text\n",
    "        Abstract Class (Blueprint)\n",
    "        ┌───────────────────────────────┐\n",
    "        │ + Abstract Method 1           │ ← must be implemented\n",
    "        │ + Abstract Method 2           │ ← must be implemented\n",
    "        │ + Concrete Method (optional)  │ ← optional to override\n",
    "        └───────────────────────────────┘\n",
    "                    ▲\n",
    "                    │\n",
    "             Subclass (Real Object)\n"
   ]
  },
  {
   "cell_type": "markdown",
   "id": "6db898d4",
   "metadata": {},
   "source": []
  }
 ],
 "metadata": {
  "language_info": {
   "name": "python"
  }
 },
 "nbformat": 4,
 "nbformat_minor": 5
}
