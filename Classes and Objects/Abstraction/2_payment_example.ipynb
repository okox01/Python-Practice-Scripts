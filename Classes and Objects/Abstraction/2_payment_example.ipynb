{
 "cells": [
  {
   "cell_type": "code",
   "execution_count": 4,
   "id": "684683f1",
   "metadata": {},
   "outputs": [
    {
     "name": "stdout",
     "output_type": "stream",
     "text": [
      "Paid $100 using PayPal\n",
      "Paid $200 using Credit Card\n"
     ]
    }
   ],
   "source": [
    "from abc import ABC, abstractmethod\n",
    "\n",
    "class Payment(ABC):\n",
    "    @abstractmethod\n",
    "    def pay(self, amount):\n",
    "        pass\n",
    "\n",
    "class PayPalPayment(Payment):\n",
    "    def pay(self,amount):\n",
    "        print(f\"Paid ${amount} using PayPal\")\n",
    "\n",
    "class CreditCardPayment(Payment):\n",
    "    def pay(self,amount):\n",
    "        print(f\"Paid ${amount} using Credit Card\")\n",
    "\n",
    "# Test\n",
    "payment_method = PayPalPayment()\n",
    "payment_method.pay(100)\n",
    "\n",
    "payment_method = CreditCardPayment()\n",
    "payment_method.pay(200)\n"
   ]
  },
  {
   "cell_type": "code",
   "execution_count": null,
   "id": "3a8f2a0f",
   "metadata": {},
   "outputs": [],
   "source": []
  }
 ],
 "metadata": {
  "kernelspec": {
   "display_name": "myenv",
   "language": "python",
   "name": "python3"
  },
  "language_info": {
   "codemirror_mode": {
    "name": "ipython",
    "version": 3
   },
   "file_extension": ".py",
   "mimetype": "text/x-python",
   "name": "python",
   "nbconvert_exporter": "python",
   "pygments_lexer": "ipython3",
   "version": "3.13.0"
  }
 },
 "nbformat": 4,
 "nbformat_minor": 5
}
