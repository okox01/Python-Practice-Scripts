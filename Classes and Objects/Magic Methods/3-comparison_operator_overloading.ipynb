{
 "cells": [
  {
   "cell_type": "markdown",
   "id": "d65640c9",
   "metadata": {},
   "source": [
    "| Method   | Operator |\n",
    "| -------- | -------- |\n",
    "| \\_\\_eq\\_\\_ | ==     |\n",
    "| \\_\\_ne\\_\\_ | !=     |\n",
    "| \\_\\_lt\\_\\_ | <      |\n",
    "| \\_\\_le\\_\\_ | <=     |\n",
    "| \\_\\_gt\\_\\_ | >      |\n",
    "| \\_\\_ge\\_\\_ | >=     |"
   ]
  },
  {
   "cell_type": "code",
   "execution_count": null,
   "id": "00dd94ef",
   "metadata": {},
   "outputs": [
    {
     "name": "stdout",
     "output_type": "stream",
     "text": [
      "a==b:  False\n",
      "a!=b:  True\n",
      "a<b:  False\n",
      "a<=b:  False\n",
      "a>b:  True\n",
      "a>=b True\n"
     ]
    }
   ],
   "source": [
    "class Number:\n",
    "    def __init__(self,value):\n",
    "        self.value=value\n",
    "    \n",
    "    def __eq__(self,other):\n",
    "        return self.value==other.value\n",
    "\n",
    "    def __ne__(self,other):\n",
    "        return self.value!=other.value\n",
    "\n",
    "    def __lt__(self,other):\n",
    "        return self.value<other.value\n",
    "    \n",
    "    def __le__(self,other):\n",
    "        return self.value<=other.value\n",
    "\n",
    "    def __gt__(self,other):\n",
    "        return self.value>other.value\n",
    "\n",
    "    def __ge__(self,other):\n",
    "        return self.value>=other.value\n",
    "\n",
    "# Create objects\n",
    "a=Number(20)\n",
    "b=Number(10)\n",
    "\n",
    "# Test all overloaded operators\n",
    "print(\"a==b: \",a==b)\n",
    "print(\"a!=b: \",a!=b)\n",
    "print(\"a<b: \",a<b)\n",
    "print(\"a<=b: \",a<=b)\n",
    "print(\"a>b: \",a>b)\n",
    "print(\"a>=b\",a>=b)"
   ]
  },
  {
   "cell_type": "code",
   "execution_count": null,
   "id": "455246f5",
   "metadata": {},
   "outputs": [],
   "source": []
  }
 ],
 "metadata": {
  "kernelspec": {
   "display_name": "myenv",
   "language": "python",
   "name": "python3"
  },
  "language_info": {
   "codemirror_mode": {
    "name": "ipython",
    "version": 3
   },
   "file_extension": ".py",
   "mimetype": "text/x-python",
   "name": "python",
   "nbconvert_exporter": "python",
   "pygments_lexer": "ipython3",
   "version": "3.13.0"
  }
 },
 "nbformat": 4,
 "nbformat_minor": 5
}
