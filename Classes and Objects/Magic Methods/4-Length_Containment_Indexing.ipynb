{
 "cells": [
  {
   "cell_type": "markdown",
   "id": "e2605a5c",
   "metadata": {},
   "source": [
    "| Method         | Use              |\n",
    "| -------------- | ---------------- |\n",
    "| `__len__`      | `len(obj)`       |\n",
    "| `__getitem__`  | `obj[key]`       |\n",
    "| `__setitem__`  | `obj[key] = val` |\n",
    "| `__delitem__`  | `del obj[key]`   |\n",
    "| `__contains__` | `val in obj`     |\n"
   ]
  },
  {
   "cell_type": "code",
   "execution_count": 8,
   "id": "faa7c271",
   "metadata": {},
   "outputs": [
    {
     "name": "stdout",
     "output_type": "stream",
     "text": [
      "List: [10, 20, 30]\n",
      "Length: 3\n",
      "Item at index 1: 20\n",
      "After setting index 1: [10, 99, 30]\n",
      "After deleting index 0: [99, 30]\n",
      "Is 99 in list? True\n",
      "Is 10 in list? False\n"
     ]
    }
   ],
   "source": [
    "class MyList:\n",
    "    def __init__(self):\n",
    "        self.data =[]\n",
    "\n",
    "    def __len__(self):\n",
    "        return len(self.data)\n",
    "\n",
    "    def __getitem__(self, key):\n",
    "        return self.data[key]\n",
    "\n",
    "    def __setitem__(self, key, value):\n",
    "        self.data[key] = value\n",
    "\n",
    "    def __delitem__(self, key):\n",
    "        del self.data[key]\n",
    "\n",
    "    def __contains__(self, value):\n",
    "        return value in self.data\n",
    "\n",
    "    def add(self, value):\n",
    "        self.data.append(value)\n",
    "\n",
    "    def __str__(self):\n",
    "        return str(self.data)\n",
    "\n",
    "# Create custom list\n",
    "lst = MyList()\n",
    "lst.add(10)\n",
    "lst.add(20)\n",
    "lst.add(30)\n",
    "\n",
    "# Testing overloaded methods\n",
    "print(\"List:\", lst)\n",
    "print(\"Length:\", len(lst))       # __len__\n",
    "print(\"Item at index 1:\", lst[1])  # __getitem__\n",
    "\n",
    "lst[1] = 99                      # __setitem__\n",
    "print(\"After setting index 1:\", lst)\n",
    "\n",
    "del lst[0]                      # __delitem__\n",
    "print(\"After deleting index 0:\", lst)\n",
    "\n",
    "print(\"Is 99 in list?\", 99 in lst)  # __contains__\n",
    "print(\"Is 10 in list?\", 10 in lst)\n"
   ]
  },
  {
   "cell_type": "markdown",
   "id": "af9162de",
   "metadata": {},
   "source": [
    "| Use Case                               | Constructor Design                              |\n",
    "| -------------------------------------- | ----------------------------------------------- |\n",
    "| Want to start with an empty container  | `def __init__(self): self.data = []`            |\n",
    "| Want to allow custom starting contents | `def __init__(self, data): self.data = data`    |\n",
    "| Want both options (optional input)     | `def __init__(self, data=None):` with a default |\n"
   ]
  },
  {
   "cell_type": "code",
   "execution_count": 6,
   "id": "cd2a1931",
   "metadata": {},
   "outputs": [
    {
     "name": "stdout",
     "output_type": "stream",
     "text": [
      "[]\n",
      "[1, 2, 3]\n"
     ]
    }
   ],
   "source": [
    "class MyList:\n",
    "    def __init__(self, data=None):\n",
    "        if data is None:\n",
    "            self.data = []\n",
    "        else:\n",
    "            self.data = data\n",
    "a = MyList()               # starts empty\n",
    "b = MyList([1, 2, 3])      # starts with data\n",
    "print(a.data)\n",
    "print(b.data)"
   ]
  }
 ],
 "metadata": {
  "kernelspec": {
   "display_name": "myenv",
   "language": "python",
   "name": "python3"
  },
  "language_info": {
   "codemirror_mode": {
    "name": "ipython",
    "version": 3
   },
   "file_extension": ".py",
   "mimetype": "text/x-python",
   "name": "python",
   "nbconvert_exporter": "python",
   "pygments_lexer": "ipython3",
   "version": "3.13.0"
  }
 },
 "nbformat": 4,
 "nbformat_minor": 5
}
