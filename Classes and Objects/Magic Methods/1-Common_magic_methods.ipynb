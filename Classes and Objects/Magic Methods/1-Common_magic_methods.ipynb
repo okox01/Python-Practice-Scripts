{
 "cells": [
  {
   "cell_type": "markdown",
   "id": "d2e7a971",
   "metadata": {},
   "source": [
    "### 🧠 Key Differences\n",
    "\n",
    "| Method     | Used For            | Called By      | Example Output          |\n",
    "| ---------- | ------------------- | -------------- | ----------------------- |\n",
    "| `__init__` | Object creation     | ClassName(...) | (N/A - sets attributes) |\n",
    "| `__str__`  | User-facing output  | `print(obj)`   | My dog is Buddy.        |\n",
    "| `__repr__` | Developer/debugging | `repr(obj)`    | Dog('Buddy')            |\n"
   ]
  },
  {
   "cell_type": "code",
   "execution_count": 4,
   "id": "c76be722",
   "metadata": {},
   "outputs": [
    {
     "name": "stdout",
     "output_type": "stream",
     "text": [
      "dog name is buddy\n",
      "name=buddy\n"
     ]
    }
   ],
   "source": [
    "class Dog:\n",
    "    def __init__(self,name):\n",
    "        self.name=name\n",
    "\n",
    "    def __str__(self):\n",
    "        return f\"dog name is {self.name}\"\n",
    "    \n",
    "    def __repr__(self):\n",
    "        return f\"name={self.name}\"\n",
    "\n",
    "d=Dog(\"buddy\")\n",
    "print(d)\n",
    "print(repr(d))"
   ]
  }
 ],
 "metadata": {
  "kernelspec": {
   "display_name": "myenv",
   "language": "python",
   "name": "python3"
  },
  "language_info": {
   "codemirror_mode": {
    "name": "ipython",
    "version": 3
   },
   "file_extension": ".py",
   "mimetype": "text/x-python",
   "name": "python",
   "nbconvert_exporter": "python",
   "pygments_lexer": "ipython3",
   "version": "3.13.0"
  }
 },
 "nbformat": 4,
 "nbformat_minor": 5
}
