{
 "cells": [
  {
   "cell_type": "code",
   "execution_count": null,
   "id": "5969b506",
   "metadata": {},
   "outputs": [
    {
     "name": "stdout",
     "output_type": "stream",
     "text": [
      "15\n"
     ]
    }
   ],
   "source": [
    "#✅ 1. __add__ → +\n",
    "\n",
    "class Number:\n",
    "    def __init__(self,value):\n",
    "        self.value=value\n",
    "    def __add__(self,other):\n",
    "        return self.value+other.value\n",
    "\n",
    "a=Number(10)\n",
    "b=Number(5)\n",
    "print(a+b)\n"
   ]
  },
  {
   "cell_type": "code",
   "execution_count": 3,
   "id": "51f5bf37",
   "metadata": {},
   "outputs": [
    {
     "name": "stdout",
     "output_type": "stream",
     "text": [
      "5\n"
     ]
    }
   ],
   "source": [
    "# ✅ 2. __sub__ → -\n",
    "class Number:\n",
    "    def __init__(self,value):\n",
    "        self.value=value\n",
    "    def __sub__(self,other):\n",
    "        return self.value-other.value\n",
    "\n",
    "a=Number(10)\n",
    "b=Number(5)\n",
    "print(a-b)\n"
   ]
  },
  {
   "cell_type": "code",
   "execution_count": null,
   "id": "d460749a",
   "metadata": {},
   "outputs": [
    {
     "name": "stdout",
     "output_type": "stream",
     "text": [
      "<__main__.Book object at 0x00000214293C1950>\n"
     ]
    }
   ],
   "source": [
    "# ✅ 3. __mul__ → *\n",
    "\n",
    "class Book:\n",
    "    def __init__(self,pages):\n",
    "        self.pages=pages\n",
    "\n",
    "    def __mul__(self,other):\n",
    "        return self.pages * other.pages\n",
    "\n",
    "b1=Book(100)\n",
    "b2=Book(20)\n",
    "\n",
    "print(b1*b2)"
   ]
  },
  {
   "cell_type": "code",
   "execution_count": null,
   "id": "99b476ce",
   "metadata": {},
   "outputs": [
    {
     "name": "stdout",
     "output_type": "stream",
     "text": [
      "5.0\n"
     ]
    }
   ],
   "source": [
    "# ✅ 4. __truediv__ → /\n",
    "\n",
    "class Number:\n",
    "    def __init__(self,value):\n",
    "        self.value=value\n",
    "    \n",
    "    def __truediv__(self,other):\n",
    "        return Number(self.value/other.value)\n",
    "    \n",
    "    def __str__(self):\n",
    "        return f\"{self.value}\"      #Without __str__, print(a / b) would return something like <__main__.Number object at ...> —\n",
    "                                    # because Python doesn’t know how to print the object.\n",
    "    \n",
    "a=Number(10)\n",
    "b=Number(2)\n",
    "\n",
    "print(a/b)"
   ]
  },
  {
   "cell_type": "code",
   "execution_count": 16,
   "id": "7936b07e",
   "metadata": {},
   "outputs": [
    {
     "name": "stdout",
     "output_type": "stream",
     "text": [
      "2\n"
     ]
    }
   ],
   "source": [
    "# ✅ 5. __floordiv__ → //\n",
    "\n",
    "class Number:\n",
    "    def __init__(self, value):\n",
    "        self.value = value\n",
    "\n",
    "    def __floordiv__(self, other):\n",
    "        return self.value // other.value\n",
    "\n",
    "a = Number(10)\n",
    "b = Number(4)\n",
    "print(a // b)  # Output: 2\n"
   ]
  },
  {
   "cell_type": "code",
   "execution_count": null,
   "id": "fef2c845",
   "metadata": {},
   "outputs": [],
   "source": [
    "# ✅ 6. __mod__ → %\n",
    "class Number:\n",
    "    def __init__(self, value):\n",
    "        self.value = value\n",
    "\n",
    "    def __mod__(self, other):\n",
    "        return self.value % other.value\n",
    "\n",
    "a = Number(10)\n",
    "b = Number(4)\n",
    "print(a % b)  # Output: 2\n"
   ]
  },
  {
   "cell_type": "code",
   "execution_count": 17,
   "id": "72a833f5",
   "metadata": {},
   "outputs": [
    {
     "name": "stdout",
     "output_type": "stream",
     "text": [
      "8\n"
     ]
    }
   ],
   "source": [
    "# ✅ 7. __pow__ → **\n",
    "class Number:\n",
    "    def __init__(self, value):\n",
    "        self.value = value\n",
    "\n",
    "    def __pow__(self, other):\n",
    "        return self.value ** other.value\n",
    "\n",
    "a = Number(2)\n",
    "b = Number(3)\n",
    "print(a ** b)  # Output: 8\n"
   ]
  }
 ],
 "metadata": {
  "kernelspec": {
   "display_name": "myenv",
   "language": "python",
   "name": "python3"
  },
  "language_info": {
   "codemirror_mode": {
    "name": "ipython",
    "version": 3
   },
   "file_extension": ".py",
   "mimetype": "text/x-python",
   "name": "python",
   "nbconvert_exporter": "python",
   "pygments_lexer": "ipython3",
   "version": "3.13.0"
  }
 },
 "nbformat": 4,
 "nbformat_minor": 5
}
