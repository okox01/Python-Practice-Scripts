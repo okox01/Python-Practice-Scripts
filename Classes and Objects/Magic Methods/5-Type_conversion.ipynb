{
 "cells": [
  {
   "cell_type": "markdown",
   "id": "d5b0e37e",
   "metadata": {},
   "source": [
    "| Method      | Converts To  |\n",
    "| ----------- | ------------ |\n",
    "| `__int__`   | `int(obj)`   |\n",
    "| `__float__` | `float(obj)` |\n",
    "| `__bool__`  | `bool(obj)`  |\n"
   ]
  },
  {
   "cell_type": "code",
   "execution_count": 1,
   "id": "5af444f4",
   "metadata": {},
   "outputs": [
    {
     "name": "stdout",
     "output_type": "stream",
     "text": [
      "As int: 10\n",
      "As float: 10.0\n",
      "As bool: True\n",
      "Zero as bool: False\n"
     ]
    }
   ],
   "source": [
    "class MyNumber:\n",
    "    def __init__(self, value):\n",
    "        self.value = value\n",
    "\n",
    "    def __int__(self):\n",
    "        return int(self.value)\n",
    "\n",
    "    def __float__(self):\n",
    "        return float(self.value)\n",
    "\n",
    "    def __bool__(self):\n",
    "        return self.value != 0  # returns False if 0, else True\n",
    "\n",
    "    def __str__(self):\n",
    "        return str(self.value)\n",
    "\n",
    "# Create an object\n",
    "num = MyNumber(10)\n",
    "\n",
    "# Test the conversion methods\n",
    "print(\"As int:\", int(num))       # __int__\n",
    "print(\"As float:\", float(num))   # __float__\n",
    "print(\"As bool:\", bool(num))     # __bool__\n",
    "\n",
    "# Test with zero\n",
    "zero = MyNumber(0)\n",
    "print(\"Zero as bool:\", bool(zero))  # False\n"
   ]
  },
  {
   "cell_type": "markdown",
   "id": "0cef0f98",
   "metadata": {},
   "source": [
    "| Method      | Converts to  | Analogy                                                 |\n",
    "| ----------- | ------------ | ------------------------------------------------------- |\n",
    "| `__int__`   | `int(obj)`   | Getting an object’s value as a whole number             |\n",
    "| `__float__` | `float(obj)` | Getting an object’s value as a decimal number           |\n",
    "| `__bool__`  | `bool(obj)`  | Checking if something is “truthy” (non-zero, not empty) |\n"
   ]
  }
 ],
 "metadata": {
  "kernelspec": {
   "display_name": "myenv",
   "language": "python",
   "name": "python3"
  },
  "language_info": {
   "codemirror_mode": {
    "name": "ipython",
    "version": 3
   },
   "file_extension": ".py",
   "mimetype": "text/x-python",
   "name": "python",
   "nbconvert_exporter": "python",
   "pygments_lexer": "ipython3",
   "version": "3.13.0"
  }
 },
 "nbformat": 4,
 "nbformat_minor": 5
}
